{
 "cells": [
  {
   "cell_type": "markdown",
   "metadata": {},
   "source": [
    "# Análise dos dados da monitoria de Cálculo Diferencial e Integral 1 (02/2018) utilizando Python 3\n",
    "## Objetivos\n",
    "1. Quantos atendimentos presenciais e à distância foram realizados no semestre?\n",
    "2. Qual a quantidade de atendimentos por mês?\n",
    "3. Quantos alunos diferentes buscaram a monitoria?\n",
    "4. Os mesmos alunos costumavam buscar a monitoria?\n",
    "5. Em qual dia da semana houve maior procura?\n",
    "6. Qual a duração média dos atendimentos (presencial e EAD)?\n",
    "7. Qual foi o número máximo de atendimentos em um dia?\n",
    "8. Familiarizar-se com o uso da linguagem voltada à análise de dados."
   ]
  },
  {
   "cell_type": "markdown",
   "metadata": {},
   "source": [
    "### Aparência do arquivo csv com os dados dos atendimentos\n",
    "* **Código**: código do aluno;\n",
    "* **Tipo**: se o atendimento foi individual ou em grupo, se foram feitos exercícios ou revisão;\n",
    "* **Data**: data do atendimento;\n",
    "* **Horário**: horário em que começou e terminou o atendimento;\n",
    "* **Presencial**: se foi presencial (na sala de monitoria) ou EAD;\n",
    "* **Dúvidas**: se foi registrado ou não as dúvidas que o aluno apresentou."
   ]
  },
  {
   "cell_type": "code",
   "execution_count": 1,
   "metadata": {},
   "outputs": [
    {
     "name": "stdout",
     "output_type": "stream",
     "text": [
      "['Código', 'Tipo', 'Data', 'Horário', 'Presencial', 'Duvidas']\n",
      "['2051800', 'Individual', '12-09-2018', '13:00 à 15:30', 'Sala', 'Registrado']\n",
      "['2052423', 'Exercícios', '17-09-2018', '16:00 à 17:57', 'Sala', 'Registrado']\n",
      "['2052482', 'Exercícios', '24-09-2018', '00:02 à 00:39', 'Não', 'Registrado']\n",
      "['2052423', 'Exercícios', '24-09-2018', '14:10 à 17:12', 'Sala', 'Registrado']\n"
     ]
    }
   ],
   "source": [
    "from csv import reader\n",
    "\n",
    "# transformando o arquivo em uma lista de listas\n",
    "opened_file = open('monitoria.csv')\n",
    "read_file = reader(opened_file)\n",
    "monitoria = list(read_file)\n",
    "\n",
    "# exibindo algumas linhas\n",
    "for i in range(0,5):\n",
    "    print(monitoria[i])"
   ]
  },
  {
   "cell_type": "markdown",
   "metadata": {},
   "source": [
    "### 1. Quantos atendimentos presenciais e à distância foram realizados no semestre?"
   ]
  },
  {
   "cell_type": "code",
   "execution_count": 2,
   "metadata": {},
   "outputs": [
    {
     "name": "stdout",
     "output_type": "stream",
     "text": [
      "Sala: 36\n",
      "EAD: 10\n",
      "Total: 46\n"
     ]
    }
   ],
   "source": [
    "# removendo o cabeçalho\n",
    "monitoria = monitoria[1:]\n",
    "\n",
    "# separando os atendimentos presenciais e EAD\n",
    "sala = []\n",
    "ead = []\n",
    "for row in monitoria:\n",
    "    if row[4] == 'Sala':\n",
    "        sala.append(row)\n",
    "    else:\n",
    "        ead.append(row)\n",
    "        \n",
    "# exibindo os tamanhos das listas, que correspondem à quantidade de atendimentos\n",
    "print('Sala: {}'.format(len(sala)))\n",
    "print('EAD: {}'.format(len(ead)))\n",
    "print('Total: {}'.format(len(monitoria)))"
   ]
  },
  {
   "cell_type": "markdown",
   "metadata": {},
   "source": [
    "### 2. Qual a quantidade de atendimentos por mês?"
   ]
  },
  {
   "cell_type": "code",
   "execution_count": 3,
   "metadata": {},
   "outputs": [
    {
     "name": "stdout",
     "output_type": "stream",
     "text": [
      "September (Day, Quant.):\n",
      "(12, 1)\n",
      "(17, 1)\n",
      "(24, 2)\n",
      "total quant. 4 \n",
      "\n",
      "October (Day, Quant.):\n",
      "(1, 1)\n",
      "(3, 1)\n",
      "(9, 1)\n",
      "(17, 3)\n",
      "(22, 2)\n",
      "(24, 1)\n",
      "(29, 4)\n",
      "(31, 2)\n",
      "total quant. 15 \n",
      "\n",
      "November (Day, Quant.):\n",
      "(5, 1)\n",
      "(7, 1)\n",
      "(12, 5)\n",
      "(21, 3)\n",
      "(18, 1)\n",
      "(20, 1)\n",
      "(19, 2)\n",
      "(25, 2)\n",
      "(28, 1)\n",
      "total quant. 17 \n",
      "\n",
      "December (Day, Quant.):\n",
      "(3, 4)\n",
      "(5, 3)\n",
      "(10, 2)\n",
      "(6, 1)\n",
      "total quant. 10 \n",
      "\n"
     ]
    }
   ],
   "source": [
    "# retorna um dicionário com a quantidade de atendimentos por dia de um determinado mês\n",
    "def month(date, month):\n",
    "    if date not in month:\n",
    "        month[date] = 1\n",
    "    else:\n",
    "        month[date] += 1\n",
    "    return month\n",
    "\n",
    "# calcula o total de atendimentos no mês\n",
    "def total(month):\n",
    "    total = 0\n",
    "    for value in month.values():\n",
    "        total += value\n",
    "    return total\n",
    "\n",
    "# exibe organizadamente os dados do mês argumentado\n",
    "def print_month(string, month):\n",
    "    print(string + ' (Day, Quant.):')\n",
    "    for m in month.items():\n",
    "        print(m)\n",
    "    print('total quant.', total(month),'\\n')\n",
    "\n",
    "\n",
    "import datetime as dt\n",
    "# exibindo os dias dos meses de setembro, outubro, novembro e dezembro, nos quais houveram\n",
    "# atendimentos, assim como a quantidade respectiva e o total no mês\n",
    "september = {}\n",
    "october = {}\n",
    "november = {}\n",
    "december = {}\n",
    "for row in monitoria:\n",
    "    date = dt.datetime.strptime(row[2],\"%d-%m-%Y\")\n",
    "    if date.month == 9:\n",
    "        september = month(date.day, september)\n",
    "    elif date.month == 10:\n",
    "        october = month(date.day, october)\n",
    "    elif date.month == 11:\n",
    "        november = month(date.day, november)\n",
    "    elif date.month == 12:\n",
    "        december = month(date.day, december)\n",
    "print_month('September', september)\n",
    "print_month('October', october)\n",
    "print_month('November', november)\n",
    "print_month('December', december)"
   ]
  },
  {
   "cell_type": "markdown",
   "metadata": {},
   "source": [
    "### 3. Quantos alunos diferentes buscaram a monitoria?"
   ]
  },
  {
   "cell_type": "code",
   "execution_count": 17,
   "metadata": {},
   "outputs": [
    {
     "name": "stdout",
     "output_type": "stream",
     "text": [
      "Students:  14\n"
     ]
    }
   ],
   "source": [
    "# contando quantas vezes cada aluno compareceu\n",
    "code = {}\n",
    "for row in monitoria:\n",
    "    if row[0] not in code:\n",
    "        code[row[0]] = 1\n",
    "    else:\n",
    "        code[row[0]] += 1\n",
    "        \n",
    "# mostrando o tamanho do dicionário, que representa a quantidade de alunos que foram\n",
    "print('Students: ', len(code))"
   ]
  },
  {
   "cell_type": "markdown",
   "metadata": {},
   "source": [
    "### 4. Os mesmos alunos costumavam buscar a monitoria?"
   ]
  },
  {
   "cell_type": "code",
   "execution_count": 16,
   "metadata": {},
   "outputs": [
    {
     "name": "stdout",
     "output_type": "stream",
     "text": [
      "Quant, Code\n",
      "[17, '2052423']\n",
      "[5, '2052300']\n",
      "[4, '2053446']\n",
      "[4, '2051001']\n",
      "[3, '1835947']\n",
      "[3, '1828193']\n",
      "[2, '2053560']\n",
      "[2, '1828207']\n",
      "[1, '2100908']\n",
      "[1, '2052482']\n",
      "[1, '2051800']\n",
      "[1, '1999230']\n",
      "[1, '1999184']\n",
      "[1, '1997777']\n"
     ]
    }
   ],
   "source": [
    "# transformando o dicionário em uma lista e invertendo as colunas para ordenar\n",
    "# do aluno que mais buscou atendimento para o que menos buscou\n",
    "code_list = []\n",
    "for c in code.items():\n",
    "    code_list.append([c[1],c[0]])\n",
    "code_list = sorted(code_list, reverse = True)\n",
    "print('Quant, Code')\n",
    "for c in code_list:\n",
    "    print(c)"
   ]
  },
  {
   "cell_type": "markdown",
   "metadata": {},
   "source": [
    "### 5. Em qual dia da semana houve maior procura?"
   ]
  },
  {
   "cell_type": "code",
   "execution_count": 15,
   "metadata": {},
   "outputs": [
    {
     "name": "stdout",
     "output_type": "stream",
     "text": [
      "Day : Quant.\n",
      "0 : 24\n",
      "1 : 2\n",
      "2 : 16\n",
      "3 : 1\n",
      "6 : 3\n"
     ]
    }
   ],
   "source": [
    "# utilizando o método weekday, que retorna o dia da semana correspondente\n",
    "# à data argumentada, para criar um dicionário com os dias da semana e o\n",
    "# a quantidade de atendimentos de cada um, de todo o semestre\n",
    "week = {}\n",
    "for row in monitoria:\n",
    "    date = dt.datetime.strptime(row[2],\"%d-%m-%Y\")\n",
    "    if date.weekday() not in week:\n",
    "        week[date.weekday()] = 1\n",
    "    else:\n",
    "        week[date.weekday()] += 1\n",
    "sorted_week = sorted(list(week))\n",
    "print('Day : Quant.')\n",
    "for w in sorted_week:\n",
    "    print(w, ':', week[w])"
   ]
  },
  {
   "cell_type": "markdown",
   "metadata": {},
   "source": [
    "### 6. Qual a duração média dos atendimentos (presencial e EAD)?"
   ]
  },
  {
   "cell_type": "code",
   "execution_count": 9,
   "metadata": {},
   "outputs": [
    {
     "name": "stdout",
     "output_type": "stream",
     "text": [
      "Sala:  1:22:00\n",
      "EAD:  0:26:48\n"
     ]
    }
   ],
   "source": [
    "# somando o tempo de cada atendimento EAD e presencial, e dividindo pelo número\n",
    "# de atendimentos respectivo\n",
    "sum_pre = dt.timedelta()\n",
    "sum_ead = dt.timedelta()\n",
    "for row in monitoria:\n",
    "    time = row[3].split(' à ')\n",
    "    time0 = dt.datetime.strptime(time[0],\"%H:%M\")\n",
    "    time1 = dt.datetime.strptime(time[1],\"%H:%M\")\n",
    "    delta = time1 - time0\n",
    "    if row[4] == 'Sala':\n",
    "        sum_pre += delta\n",
    "    else:\n",
    "        sum_ead += delta\n",
    "print('Sala: ', sum_pre/len(sala))\n",
    "print('EAD: ', sum_ead/len(ead))"
   ]
  },
  {
   "cell_type": "markdown",
   "metadata": {},
   "source": [
    "### 7. Qual foi o número máximo de atendimentos em um dia?"
   ]
  },
  {
   "cell_type": "code",
   "execution_count": 12,
   "metadata": {},
   "outputs": [
    {
     "name": "stdout",
     "output_type": "stream",
     "text": [
      "Max: 5\n"
     ]
    }
   ],
   "source": [
    "# itera sobre os valores do dicionário e encontra o maior\n",
    "def found_max(month):\n",
    "    global Max\n",
    "    for m in month.values():\n",
    "        if Max < m:\n",
    "            Max = m\n",
    "\n",
    "\n",
    "# encontrando e exibindo o máximo número de atendimentos entre todos os meses\n",
    "Max = 0\n",
    "found_max(september)\n",
    "found_max(october)\n",
    "found_max(november)\n",
    "found_max(december)\n",
    "print('Max:',Max)"
   ]
  },
  {
   "cell_type": "markdown",
   "metadata": {},
   "source": [
    "## Conclusões\n",
    "   Observa-se que o número de atendimentos total foi baixo(36 presenciais e 10 EAD, totalizando 46), tendo em vista que, em vários dias, este foi zero.\n",
    "\n",
    "   O mês com maior número de atendimentos foi novembro, o que já era esperado devido ao acúmulo de provas no fim do semestre. Em contrapartida, setembro foi o que obteve menos atendimentos, possivelmente devido o início da monitoria ter ocorrido nesse mês.\n",
    "\n",
    "   Apenas 14 alunos buscaram a monitoria, sendo que alguns deles não estavam matriculados nas turmas de Cálculo Dif. e Integral 1 (que totalizam 44 estudantes). Desses 14, a maioria frequentou apenas 1 ou 2 vezes, destacando-se um aluno que foi atendido 17 vezes.\n",
    "\n",
    "   O dia da semana mais procurado foi segunda-feira, provavelmente devido ao fato dos alunos estudarem nos finais de semana. A média de tempo dos atendimentos na sala foi alta, de 1 hora e 22 minutos, enquanto que EAD foi 26 minutos. O máximo de atendimentos que houve em um único dia foi 5.\n",
    "### 8. Familiarizar-se com o uso da linguagem voltada à análise de dados.\n",
    "   Com isto, cumpriu-se o último objetivo."
   ]
  }
 ],
 "metadata": {
  "kernelspec": {
   "display_name": "Python 3",
   "language": "python",
   "name": "python3"
  },
  "language_info": {
   "codemirror_mode": {
    "name": "ipython",
    "version": 3
   },
   "file_extension": ".py",
   "mimetype": "text/x-python",
   "name": "python",
   "nbconvert_exporter": "python",
   "pygments_lexer": "ipython3",
   "version": "3.6.5"
  }
 },
 "nbformat": 4,
 "nbformat_minor": 2
}
