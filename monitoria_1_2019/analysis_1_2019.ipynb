{
 "cells": [
  {
   "cell_type": "markdown",
   "metadata": {},
   "source": [
    "# Análise dos registros de atendimentos da monitoria de Cálculo Diferencial e Integral 1 utilizando biblioteca pandas - Python 3 (01/2019)\n",
    "## Objetivos\n",
    "- Analisar os dados da monitoria do primeiro semestre de 2019;\n",
    "- Familiarizar-se com o uso da biblioteca pandas.\n",
    "\n",
    "## Questões\n",
    "1. Quantos atendimentos presenciais e à distância foram realizados no semestre?\n",
    "2. Qual a quantidade de atendimentos por mês?\n",
    "3. Quantos alunos diferentes buscaram a monitoria?\n",
    "4. Os mesmos alunos costumavam buscar a monitoria?\n",
    "5. Em qual dia da semana houve maior procura?\n",
    "6. Qual a duração média dos atendimentos (presencial e EAD)?\n",
    "7. Qual foi o número máximo de atendimentos em um dia?\n",
    "8. Quantos dias tiveram atendimento?\n",
    "9. Qual a média de atendimentos por dia?"
   ]
  },
  {
   "cell_type": "markdown",
   "metadata": {},
   "source": [
    "### Aparência do arquivo csv com os dados dos atendimentos\n",
    "* **Código**: código do aluno;\n",
    "* **Tipo**: se o atendimento foi individual ou em grupo, se foram feitos exercícios ou revisão;\n",
    "* **Data**: data do atendimento;\n",
    "* **Horário**: horário em que começou e terminou o atendimento;\n",
    "* **Presencial**: se foi presencial (na sala de monitoria) ou EAD;\n",
    "* **Dúvidas**: se foi registrado ou não as dúvidas que o aluno apresentou."
   ]
  },
  {
   "cell_type": "code",
   "execution_count": 1,
   "metadata": {},
   "outputs": [
    {
     "data": {
      "text/html": [
       "<div>\n",
       "<style scoped>\n",
       "    .dataframe tbody tr th:only-of-type {\n",
       "        vertical-align: middle;\n",
       "    }\n",
       "\n",
       "    .dataframe tbody tr th {\n",
       "        vertical-align: top;\n",
       "    }\n",
       "\n",
       "    .dataframe thead th {\n",
       "        text-align: right;\n",
       "    }\n",
       "</style>\n",
       "<table border=\"1\" class=\"dataframe\">\n",
       "  <thead>\n",
       "    <tr style=\"text-align: right;\">\n",
       "      <th></th>\n",
       "      <th>Código</th>\n",
       "      <th>Tipo</th>\n",
       "      <th>Data</th>\n",
       "      <th>Horário</th>\n",
       "      <th>Presencial</th>\n",
       "      <th>Duvidas</th>\n",
       "    </tr>\n",
       "  </thead>\n",
       "  <tbody>\n",
       "    <tr>\n",
       "      <th>0</th>\n",
       "      <td>2144468</td>\n",
       "      <td>Individual</td>\n",
       "      <td>11/04/19</td>\n",
       "      <td>13:15 à 13:52</td>\n",
       "      <td>Sala</td>\n",
       "      <td>Registrado</td>\n",
       "    </tr>\n",
       "    <tr>\n",
       "      <th>1</th>\n",
       "      <td>2070294</td>\n",
       "      <td>Exercícios</td>\n",
       "      <td>11/04/19</td>\n",
       "      <td>13:04 à 13:37</td>\n",
       "      <td>Sala</td>\n",
       "      <td>Registrado</td>\n",
       "    </tr>\n",
       "    <tr>\n",
       "      <th>2</th>\n",
       "      <td>2012250</td>\n",
       "      <td>Exercícios</td>\n",
       "      <td>11/04/19</td>\n",
       "      <td>13:10 à 13:34</td>\n",
       "      <td>Sala</td>\n",
       "      <td>Registrado</td>\n",
       "    </tr>\n",
       "    <tr>\n",
       "      <th>3</th>\n",
       "      <td>2102544</td>\n",
       "      <td>Exercícios</td>\n",
       "      <td>11/04/19</td>\n",
       "      <td>13:25 à 13:50</td>\n",
       "      <td>Sala</td>\n",
       "      <td>Registrado</td>\n",
       "    </tr>\n",
       "    <tr>\n",
       "      <th>4</th>\n",
       "      <td>2102439</td>\n",
       "      <td>Exercícios</td>\n",
       "      <td>11/04/19</td>\n",
       "      <td>13:25 à 13:50</td>\n",
       "      <td>Sala</td>\n",
       "      <td>Registrado</td>\n",
       "    </tr>\n",
       "  </tbody>\n",
       "</table>\n",
       "</div>"
      ],
      "text/plain": [
       "    Código        Tipo      Data        Horário Presencial     Duvidas\n",
       "0  2144468  Individual  11/04/19  13:15 à 13:52       Sala  Registrado\n",
       "1  2070294  Exercícios  11/04/19  13:04 à 13:37       Sala  Registrado\n",
       "2  2012250  Exercícios  11/04/19  13:10 à 13:34       Sala  Registrado\n",
       "3  2102544  Exercícios  11/04/19  13:25 à 13:50       Sala  Registrado\n",
       "4  2102439  Exercícios  11/04/19  13:25 à 13:50       Sala  Registrado"
      ]
     },
     "execution_count": 1,
     "metadata": {},
     "output_type": "execute_result"
    }
   ],
   "source": [
    "import pandas as pd\n",
    "\n",
    "registers = pd.read_csv('registers_1_2019.csv')\n",
    "registers.head()"
   ]
  },
  {
   "cell_type": "markdown",
   "metadata": {},
   "source": [
    "## 1. Quantos atendimentos presenciais e à distância foram realizados no semestre?"
   ]
  },
  {
   "cell_type": "code",
   "execution_count": 2,
   "metadata": {},
   "outputs": [
    {
     "data": {
      "text/html": [
       "<div>\n",
       "<style scoped>\n",
       "    .dataframe tbody tr th:only-of-type {\n",
       "        vertical-align: middle;\n",
       "    }\n",
       "\n",
       "    .dataframe tbody tr th {\n",
       "        vertical-align: top;\n",
       "    }\n",
       "\n",
       "    .dataframe thead th {\n",
       "        text-align: right;\n",
       "    }\n",
       "</style>\n",
       "<table border=\"1\" class=\"dataframe\">\n",
       "  <thead>\n",
       "    <tr style=\"text-align: right;\">\n",
       "      <th></th>\n",
       "      <th>Quantity</th>\n",
       "      <th>Percentage</th>\n",
       "    </tr>\n",
       "  </thead>\n",
       "  <tbody>\n",
       "    <tr>\n",
       "      <th>Registers</th>\n",
       "      <td>69</td>\n",
       "      <td>100.000000</td>\n",
       "    </tr>\n",
       "    <tr>\n",
       "      <th>Presential</th>\n",
       "      <td>55</td>\n",
       "      <td>79.710145</td>\n",
       "    </tr>\n",
       "    <tr>\n",
       "      <th>Not Presential</th>\n",
       "      <td>14</td>\n",
       "      <td>20.289855</td>\n",
       "    </tr>\n",
       "  </tbody>\n",
       "</table>\n",
       "</div>"
      ],
      "text/plain": [
       "                Quantity  Percentage\n",
       "Registers             69  100.000000\n",
       "Presential            55   79.710145\n",
       "Not Presential        14   20.289855"
      ]
     },
     "execution_count": 2,
     "metadata": {},
     "output_type": "execute_result"
    }
   ],
   "source": [
    "total_registers = registers.index.max() + 1\n",
    "presential = registers['Presencial'].isin(['Sala']).sum()\n",
    "not_presential = total_registers - presential\n",
    "\n",
    "percentage_presential = presential/total_registers*100\n",
    "percentage_not_presential = not_presential/total_registers*100\n",
    "\n",
    "list_of_quantities = [total_registers, presential, not_presential]\n",
    "list_of_percentages = [100 , percentage_presential, percentage_not_presential]\n",
    "list_of_indexes = ['Registers', 'Presential', 'Not Presential']\n",
    "\n",
    "summary = pd.DataFrame({'Quantity': list_of_quantities, 'Percentage': list_of_percentages}, index = list_of_indexes)\n",
    "summary[['Quantity', 'Percentage']]"
   ]
  },
  {
   "cell_type": "markdown",
   "metadata": {},
   "source": [
    "### 2. Qual a quantidade de atendimentos por mês?"
   ]
  },
  {
   "cell_type": "code",
   "execution_count": 3,
   "metadata": {},
   "outputs": [
    {
     "data": {
      "text/html": [
       "<div>\n",
       "<style scoped>\n",
       "    .dataframe tbody tr th:only-of-type {\n",
       "        vertical-align: middle;\n",
       "    }\n",
       "\n",
       "    .dataframe tbody tr th {\n",
       "        vertical-align: top;\n",
       "    }\n",
       "\n",
       "    .dataframe thead th {\n",
       "        text-align: right;\n",
       "    }\n",
       "</style>\n",
       "<table border=\"1\" class=\"dataframe\">\n",
       "  <thead>\n",
       "    <tr style=\"text-align: right;\">\n",
       "      <th></th>\n",
       "      <th>Quantity</th>\n",
       "    </tr>\n",
       "  </thead>\n",
       "  <tbody>\n",
       "    <tr>\n",
       "      <th>April</th>\n",
       "      <td>22</td>\n",
       "    </tr>\n",
       "    <tr>\n",
       "      <th>May</th>\n",
       "      <td>23</td>\n",
       "    </tr>\n",
       "    <tr>\n",
       "      <th>June</th>\n",
       "      <td>16</td>\n",
       "    </tr>\n",
       "    <tr>\n",
       "      <th>July</th>\n",
       "      <td>8</td>\n",
       "    </tr>\n",
       "  </tbody>\n",
       "</table>\n",
       "</div>"
      ],
      "text/plain": [
       "       Quantity\n",
       "April        22\n",
       "May          23\n",
       "June         16\n",
       "July          8"
      ]
     },
     "execution_count": 3,
     "metadata": {},
     "output_type": "execute_result"
    }
   ],
   "source": [
    "import datetime as dt\n",
    "\n",
    "def return_datetime(date):\n",
    "    return dt.datetime.strptime(date, '%d/%m/%y')\n",
    "\n",
    "registers.Data = registers.Data.map(lambda d: return_datetime(d))\n",
    "freq_table_months = registers.Data.map(lambda d: d.month).value_counts()\n",
    "freq_table_months = freq_table_months.sort_index()\n",
    "pd.DataFrame({'Quantity': list(freq_table_months)}, index = ['April', 'May', 'June', 'July'])"
   ]
  },
  {
   "cell_type": "markdown",
   "metadata": {},
   "source": [
    "### 3. Quantos alunos diferentes buscaram a monitoria?"
   ]
  },
  {
   "cell_type": "code",
   "execution_count": 4,
   "metadata": {},
   "outputs": [
    {
     "name": "stdout",
     "output_type": "stream",
     "text": [
      "Number of different students: 25\n"
     ]
    }
   ],
   "source": [
    "dif_students = registers.Código.unique().size\n",
    "print(f'Number of different students: {dif_students}')"
   ]
  },
  {
   "cell_type": "markdown",
   "metadata": {},
   "source": [
    "### 4. Os mesmos alunos costumavam buscar a monitoria?"
   ]
  },
  {
   "cell_type": "code",
   "execution_count": 5,
   "metadata": {},
   "outputs": [
    {
     "data": {
      "text/html": [
       "<div>\n",
       "<style scoped>\n",
       "    .dataframe tbody tr th:only-of-type {\n",
       "        vertical-align: middle;\n",
       "    }\n",
       "\n",
       "    .dataframe tbody tr th {\n",
       "        vertical-align: top;\n",
       "    }\n",
       "\n",
       "    .dataframe thead th {\n",
       "        text-align: right;\n",
       "    }\n",
       "</style>\n",
       "<table border=\"1\" class=\"dataframe\">\n",
       "  <thead>\n",
       "    <tr style=\"text-align: right;\">\n",
       "      <th></th>\n",
       "      <th>Students</th>\n",
       "      <th>Percentage</th>\n",
       "    </tr>\n",
       "    <tr>\n",
       "      <th>Times helped</th>\n",
       "      <th></th>\n",
       "      <th></th>\n",
       "    </tr>\n",
       "  </thead>\n",
       "  <tbody>\n",
       "    <tr>\n",
       "      <th>2</th>\n",
       "      <td>8</td>\n",
       "      <td>32.0</td>\n",
       "    </tr>\n",
       "    <tr>\n",
       "      <th>1</th>\n",
       "      <td>7</td>\n",
       "      <td>28.0</td>\n",
       "    </tr>\n",
       "    <tr>\n",
       "      <th>3</th>\n",
       "      <td>4</td>\n",
       "      <td>16.0</td>\n",
       "    </tr>\n",
       "    <tr>\n",
       "      <th>4</th>\n",
       "      <td>2</td>\n",
       "      <td>8.0</td>\n",
       "    </tr>\n",
       "    <tr>\n",
       "      <th>8</th>\n",
       "      <td>1</td>\n",
       "      <td>4.0</td>\n",
       "    </tr>\n",
       "    <tr>\n",
       "      <th>7</th>\n",
       "      <td>1</td>\n",
       "      <td>4.0</td>\n",
       "    </tr>\n",
       "    <tr>\n",
       "      <th>6</th>\n",
       "      <td>1</td>\n",
       "      <td>4.0</td>\n",
       "    </tr>\n",
       "    <tr>\n",
       "      <th>5</th>\n",
       "      <td>1</td>\n",
       "      <td>4.0</td>\n",
       "    </tr>\n",
       "  </tbody>\n",
       "</table>\n",
       "</div>"
      ],
      "text/plain": [
       "              Students  Percentage\n",
       "Times helped                      \n",
       "2                    8        32.0\n",
       "1                    7        28.0\n",
       "3                    4        16.0\n",
       "4                    2         8.0\n",
       "8                    1         4.0\n",
       "7                    1         4.0\n",
       "6                    1         4.0\n",
       "5                    1         4.0"
      ]
     },
     "execution_count": 5,
     "metadata": {},
     "output_type": "execute_result"
    }
   ],
   "source": [
    "freq_table = registers.Código.value_counts().value_counts()\n",
    "freq_table_percentage = freq_table/dif_students*100\n",
    "\n",
    "freq_table_df = pd.DataFrame({'Students': freq_table, 'Percentage': freq_table_percentage})\n",
    "freq_table_df = freq_table_df.rename_axis('Times helped', axis = 'index')\n",
    "freq_table_df[['Students', 'Percentage']]"
   ]
  },
  {
   "cell_type": "markdown",
   "metadata": {},
   "source": [
    "### 5. Em qual dia da semana houve maior procura?"
   ]
  },
  {
   "cell_type": "code",
   "execution_count": 6,
   "metadata": {},
   "outputs": [
    {
     "data": {
      "text/html": [
       "<div>\n",
       "<style scoped>\n",
       "    .dataframe tbody tr th:only-of-type {\n",
       "        vertical-align: middle;\n",
       "    }\n",
       "\n",
       "    .dataframe tbody tr th {\n",
       "        vertical-align: top;\n",
       "    }\n",
       "\n",
       "    .dataframe thead th {\n",
       "        text-align: right;\n",
       "    }\n",
       "</style>\n",
       "<table border=\"1\" class=\"dataframe\">\n",
       "  <thead>\n",
       "    <tr style=\"text-align: right;\">\n",
       "      <th></th>\n",
       "      <th>Quantity</th>\n",
       "    </tr>\n",
       "  </thead>\n",
       "  <tbody>\n",
       "    <tr>\n",
       "      <th>Mon</th>\n",
       "      <td>15</td>\n",
       "    </tr>\n",
       "    <tr>\n",
       "      <th>Tue</th>\n",
       "      <td>6</td>\n",
       "    </tr>\n",
       "    <tr>\n",
       "      <th>Wed</th>\n",
       "      <td>11</td>\n",
       "    </tr>\n",
       "    <tr>\n",
       "      <th>Thu</th>\n",
       "      <td>17</td>\n",
       "    </tr>\n",
       "    <tr>\n",
       "      <th>Fri</th>\n",
       "      <td>20</td>\n",
       "    </tr>\n",
       "  </tbody>\n",
       "</table>\n",
       "</div>"
      ],
      "text/plain": [
       "     Quantity\n",
       "Mon        15\n",
       "Tue         6\n",
       "Wed        11\n",
       "Thu        17\n",
       "Fri        20"
      ]
     },
     "execution_count": 6,
     "metadata": {},
     "output_type": "execute_result"
    }
   ],
   "source": [
    "weekday_freq = registers.Data.map(lambda d: d.weekday()).value_counts()\n",
    "weekday_freq = weekday_freq.sort_index()\n",
    "\n",
    "list_of_weekdays = ['Mon', 'Tue', 'Wed', 'Thu', 'Fri']\n",
    "pd.DataFrame({'Quantity': list(weekday_freq)}, index = list_of_weekdays)"
   ]
  },
  {
   "cell_type": "markdown",
   "metadata": {},
   "source": [
    "### 6. Qual a duração média dos atendimentos (presencial e EAD)?"
   ]
  },
  {
   "cell_type": "code",
   "execution_count": 7,
   "metadata": {},
   "outputs": [
    {
     "data": {
      "text/html": [
       "<div>\n",
       "<style scoped>\n",
       "    .dataframe tbody tr th:only-of-type {\n",
       "        vertical-align: middle;\n",
       "    }\n",
       "\n",
       "    .dataframe tbody tr th {\n",
       "        vertical-align: top;\n",
       "    }\n",
       "\n",
       "    .dataframe thead th {\n",
       "        text-align: right;\n",
       "    }\n",
       "</style>\n",
       "<table border=\"1\" class=\"dataframe\">\n",
       "  <thead>\n",
       "    <tr style=\"text-align: right;\">\n",
       "      <th></th>\n",
       "      <th>Mean Duration</th>\n",
       "    </tr>\n",
       "  </thead>\n",
       "  <tbody>\n",
       "    <tr>\n",
       "      <th>Presential</th>\n",
       "      <td>00:31:07.636363</td>\n",
       "    </tr>\n",
       "    <tr>\n",
       "      <th>Not Presential</th>\n",
       "      <td>00:30:55.714285</td>\n",
       "    </tr>\n",
       "  </tbody>\n",
       "</table>\n",
       "</div>"
      ],
      "text/plain": [
       "                 Mean Duration\n",
       "Presential     00:31:07.636363\n",
       "Not Presential 00:30:55.714285"
      ]
     },
     "execution_count": 7,
     "metadata": {},
     "output_type": "execute_result"
    }
   ],
   "source": [
    "def return_duration(times):\n",
    "    time1 = dt.datetime.strptime(times[0], '%H:%M')\n",
    "    time2 = dt.datetime.strptime(times[1], '%H:%M')\n",
    "    if time2 > time1:\n",
    "        return time2 - time1\n",
    "    else:\n",
    "        return time2 - time1 + dt.timedelta(days = 1)\n",
    "\n",
    "def sum_duration(p):\n",
    "    global sum_pre, sum_ead\n",
    "    global total_pre, total_ead\n",
    "    if p['Presential'] == 'Sala':\n",
    "        sum_pre += p['Duration']\n",
    "        total_pre += 1\n",
    "    else:\n",
    "        sum_ead += p['Duration']\n",
    "        total_ead += 1\n",
    "\n",
    "\n",
    "registers.Horário = registers['Horário'].str.split(' à ')\n",
    "duration = registers.Horário.map(lambda h: return_duration(h))\n",
    "pre_and_dur = pd.DataFrame({'Presential': registers.Presencial, 'Duration': duration})[['Presential', 'Duration']]\n",
    "\n",
    "sum_pre = sum_ead = dt.timedelta()\n",
    "total_ead = total_pre = 0\n",
    "for i in range(0, total_registers):\n",
    "    sum_duration(pre_and_dur.loc[i, :])\n",
    "\n",
    "mean_pre = sum_pre/total_pre\n",
    "mean_ead = sum_ead/total_ead\n",
    "pd.DataFrame({'Mean Duration': [mean_pre, mean_ead]}, index = ['Presential', 'Not Presential'])"
   ]
  },
  {
   "cell_type": "markdown",
   "metadata": {},
   "source": [
    "### 7. Qual foi o número máximo de atendimentos em um dia?"
   ]
  },
  {
   "cell_type": "code",
   "execution_count": 12,
   "metadata": {},
   "outputs": [
    {
     "name": "stdout",
     "output_type": "stream",
     "text": [
      "Maximum number of registers per day: 6\n"
     ]
    }
   ],
   "source": [
    "registers_per_day = registers.groupby(['Data']).Data.count()\n",
    "print(f'Maximum number of registers per day: {registers_per_day.max()}')"
   ]
  },
  {
   "cell_type": "markdown",
   "metadata": {},
   "source": [
    "### 8. Quantos dias tiveram atendimentos?"
   ]
  },
  {
   "cell_type": "code",
   "execution_count": 10,
   "metadata": {},
   "outputs": [
    {
     "name": "stdout",
     "output_type": "stream",
     "text": [
      "Days with registers: 33\n"
     ]
    }
   ],
   "source": [
    "freq_table_days = registers_per_day.value_counts()\n",
    "total_days = freq_table_days.sum()\n",
    "print(f'Days with registers: {total_days}')"
   ]
  },
  {
   "cell_type": "markdown",
   "metadata": {},
   "source": [
    "### 9. Qual a média de atendimentos por dia?"
   ]
  },
  {
   "cell_type": "code",
   "execution_count": 11,
   "metadata": {},
   "outputs": [
    {
     "name": "stdout",
     "output_type": "stream",
     "text": [
      "Mean of registers per day: 2.09 (considering only the days with registers, not all of them)\n"
     ]
    }
   ],
   "source": [
    "mean_registers = total_registers/total_days\n",
    "print(f'Mean of registers per day: {mean_registers:.3} (considering only the days with registers, not all of them)')"
   ]
  },
  {
   "cell_type": "code",
   "execution_count": 14,
   "metadata": {},
   "outputs": [
    {
     "data": {
      "text/html": [
       "<div>\n",
       "<style scoped>\n",
       "    .dataframe tbody tr th:only-of-type {\n",
       "        vertical-align: middle;\n",
       "    }\n",
       "\n",
       "    .dataframe tbody tr th {\n",
       "        vertical-align: top;\n",
       "    }\n",
       "\n",
       "    .dataframe thead th {\n",
       "        text-align: right;\n",
       "    }\n",
       "</style>\n",
       "<table border=\"1\" class=\"dataframe\">\n",
       "  <thead>\n",
       "    <tr style=\"text-align: right;\">\n",
       "      <th></th>\n",
       "      <th>Quantity of days</th>\n",
       "      <th>Percentage</th>\n",
       "    </tr>\n",
       "    <tr>\n",
       "      <th>Nº of registers on the day</th>\n",
       "      <th></th>\n",
       "      <th></th>\n",
       "    </tr>\n",
       "  </thead>\n",
       "  <tbody>\n",
       "    <tr>\n",
       "      <th>1</th>\n",
       "      <td>16</td>\n",
       "      <td>48.484848</td>\n",
       "    </tr>\n",
       "    <tr>\n",
       "      <th>2</th>\n",
       "      <td>7</td>\n",
       "      <td>21.212121</td>\n",
       "    </tr>\n",
       "    <tr>\n",
       "      <th>3</th>\n",
       "      <td>5</td>\n",
       "      <td>15.151515</td>\n",
       "    </tr>\n",
       "    <tr>\n",
       "      <th>5</th>\n",
       "      <td>2</td>\n",
       "      <td>6.060606</td>\n",
       "    </tr>\n",
       "    <tr>\n",
       "      <th>4</th>\n",
       "      <td>2</td>\n",
       "      <td>6.060606</td>\n",
       "    </tr>\n",
       "    <tr>\n",
       "      <th>6</th>\n",
       "      <td>1</td>\n",
       "      <td>3.030303</td>\n",
       "    </tr>\n",
       "  </tbody>\n",
       "</table>\n",
       "</div>"
      ],
      "text/plain": [
       "                            Quantity of days  Percentage\n",
       "Nº of registers on the day                              \n",
       "1                                         16   48.484848\n",
       "2                                          7   21.212121\n",
       "3                                          5   15.151515\n",
       "5                                          2    6.060606\n",
       "4                                          2    6.060606\n",
       "6                                          1    3.030303"
      ]
     },
     "execution_count": 14,
     "metadata": {},
     "output_type": "execute_result"
    }
   ],
   "source": [
    "percentage_days = freq_table_days.map(lambda f: f/total_days*100)\n",
    "perc_days_df = pd.DataFrame({'Quantity of days': freq_table_days, 'Percentage': percentage_days}, index = freq_table_days.index)\n",
    "perc_days_df = perc_days_df[['Quantity of days', 'Percentage']]\n",
    "perc_days_df.rename_axis('Nº of registers on the day', axis = 'index')"
   ]
  },
  {
   "cell_type": "markdown",
   "metadata": {},
   "source": [
    "## Conclusões\n",
    "Do total de 69 atendimentos, 55 (80%) foram presenciais e, 14 (20%), não presenciais.\n",
    "\n",
    "O mês com mais registros foi Maio, e o com menos, Julho, sendo que 25 alunos diferentes buscaram monitoria durante o semestre. Desses alunos, a maioria foi atendida apenas uma ou duas vezes, sendo que o aluno mais atendido obteve 8 registros.\n",
    "\n",
    "O dia da semana com mais atendimentos foi a sexta-feira. A duração média de um atendimento presencial foi de 31 minutos e 7 segundos, bem próximo do atendimento à distância, de 30 minutos e 55 segundos.\n",
    "\n",
    "O número máximo de registros em um dia foi 6. Dos dias em que **houve** monitoria, 33 tiveram atendimento, com uma média de 2.09 por dia, apesar dos dias com apenas 1 serem maioria.\n",
    "\n",
    "Com isto, foram cumpridos os objetivos."
   ]
  }
 ],
 "metadata": {
  "kernelspec": {
   "display_name": "Python 3",
   "language": "python",
   "name": "python3"
  },
  "language_info": {
   "codemirror_mode": {
    "name": "ipython",
    "version": 3
   },
   "file_extension": ".py",
   "mimetype": "text/x-python",
   "name": "python",
   "nbconvert_exporter": "python",
   "pygments_lexer": "ipython3",
   "version": "3.6.5"
  }
 },
 "nbformat": 4,
 "nbformat_minor": 2
}
